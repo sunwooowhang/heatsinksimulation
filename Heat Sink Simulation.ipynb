{
  "cells": [
    {
      "cell_type": "code",
      "execution_count": 160,
      "metadata": {
        "id": "MzhHozQ729Xl"
      },
      "outputs": [],
      "source": [
        "import numpy as np\n",
        "import matplotlib.pyplot as plt"
      ]
    },
    {
      "cell_type": "code",
      "execution_count": 161,
      "metadata": {},
      "outputs": [],
      "source": [
        "# SEED FOR HEAT SINK SHAPE\n",
        "scaling = 100\n",
        "\n",
        "nf = 5 # no of fins\n",
        "fin_width = 0.4 # cm\n",
        "gap_width = 0.8 # cm\n",
        "fin_length = 5 # cm\n",
        "base_length = 0.4 # cm"
      ]
    },
    {
      "cell_type": "code",
      "execution_count": 162,
      "metadata": {
        "id": "sObJjBsA29Xn"
      },
      "outputs": [
        {
          "name": "stdout",
          "output_type": "stream",
          "text": [
            "0.039\n"
          ]
        }
      ],
      "source": [
        "\n",
        "xf = ( nf * (fin_width) + (nf-1) * (gap_width) ) / scaling\n",
        "\n",
        "print(xf)\n",
        "dx = 0.07 /scaling\n",
        "yf = (base_length + (fin_length)) / scaling\n",
        "dy = dx\n",
        "rt = 25\n",
        "\n",
        "k = 237 # W / mK\n",
        "h = 100 # W / m^2K\n",
        "q = 120 / (yf ** 2)\n",
        "\n"
      ]
    },
    {
      "cell_type": "code",
      "execution_count": 163,
      "metadata": {
        "colab": {
          "base_uri": "https://localhost:8080/"
        },
        "id": "0U39wXCy5Czu",
        "outputId": "7a0a99ef-2e28-4292-be1b-03f3fcec41dc"
      },
      "outputs": [
        {
          "data": {
            "text/plain": [
              "0.039"
            ]
          },
          "execution_count": 163,
          "metadata": {},
          "output_type": "execute_result"
        }
      ],
      "source": [
        "xf"
      ]
    },
    {
      "cell_type": "code",
      "execution_count": 164,
      "metadata": {
        "colab": {
          "base_uri": "https://localhost:8080/"
        },
        "id": "UGY6VBn_5BGO",
        "outputId": "dadfab94-2f64-4d0a-8a55-c0d4b957f1b8"
      },
      "outputs": [
        {
          "data": {
            "text/plain": [
              "0.0007000000000000001"
            ]
          },
          "execution_count": 164,
          "metadata": {},
          "output_type": "execute_result"
        }
      ],
      "source": [
        "dx"
      ]
    },
    {
      "cell_type": "code",
      "execution_count": 165,
      "metadata": {
        "id": "_oHnUQyY29Xn"
      },
      "outputs": [],
      "source": [
        "states = np.ones((int(xf/dx+1),int(yf/dy+1)))\n",
        "\n",
        "xArray = np.linspace(0,xf,states.shape[1])\n",
        "yArray = np.linspace(0,yf,states.shape[0])"
      ]
    },
    {
      "cell_type": "code",
      "execution_count": 166,
      "metadata": {
        "colab": {
          "base_uri": "https://localhost:8080/"
        },
        "id": "R42jsAnw29Xn",
        "outputId": "4f9de38a-791e-4183-deab-840d526d5fce"
      },
      "outputs": [
        {
          "name": "stdout",
          "output_type": "stream",
          "text": [
            "(4368, 4368)\n",
            "(4368,)\n"
          ]
        }
      ],
      "source": [
        "n = states.reshape(-1).shape[0]\n",
        "A = np.zeros((n,n))\n",
        "B = np.zeros(n)\n",
        "print(A.shape)\n",
        "print(B.shape)"
      ]
    },
    {
      "cell_type": "code",
      "execution_count": 167,
      "metadata": {
        "id": "kGUkCIJv29Xo"
      },
      "outputs": [],
      "source": [
        "def mapA(j,i):\n",
        "    if i < 0:\n",
        "        i = states.shape[0] + i\n",
        "\n",
        "    if j < 0:\n",
        "        j = states.shape[1] + j\n",
        "\n",
        "    return(j * states.shape[1] + i)"
      ]
    },
    {
      "cell_type": "code",
      "execution_count": 168,
      "metadata": {},
      "outputs": [],
      "source": [
        "def findNearest(zArray,z):\n",
        "    difference_array = np.absolute(zArray-z)\n",
        "    index = difference_array.argmin()\n",
        "    return index"
      ]
    },
    {
      "cell_type": "code",
      "execution_count": 169,
      "metadata": {
        "id": "Dl89uyPO29Xo"
      },
      "outputs": [],
      "source": [
        "for i in range(nf-1):\n",
        "    x0 = (i)*(fin_width + gap_width) + fin_width\n",
        "    x1 = x0 + gap_width \n",
        "    idx0 = findNearest(xArray, x0/scaling)\n",
        "    idx1 = findNearest(xArray, x1/scaling)\n",
        "    idy = findNearest(yArray, base_length/scaling)\n",
        "    states[idy:,idx0:idx1] = -1"
      ]
    },
    {
      "cell_type": "code",
      "execution_count": 170,
      "metadata": {},
      "outputs": [],
      "source": [
        "cMask = states.copy()\n"
      ]
    },
    {
      "cell_type": "code",
      "execution_count": 171,
      "metadata": {},
      "outputs": [],
      "source": [
        "cMask[1:-1,0] = 2 # left convection\n",
        "cMask[1:-1,-1] = 4 # right convection\n",
        "\n",
        "midpoint = xf/2\n",
        "xleft = midpoint - 2.5 / scaling \n",
        "xright = midpoint + 2.5 / scaling \n",
        "idxleft = findNearest(xArray, xleft)\n",
        "idxright = findNearest(xArray, xright)\n",
        "\n",
        "cMask[0,idxleft:idxright] = 0\n",
        "for i in range(1,states.shape[1] - 1):\n",
        "    if cMask[0,i] != 0:\n",
        "        cMask[0,i] = 9 # bottom insulation\n",
        "    if cMask[-1,i+1] != -1 and cMask[-1,i-1] != -1:\n",
        "        cMask[-1,i] = 3\n",
        "    if cMask[idy+1,i] == -1:\n",
        "        cMask[idy,i] = 3\n",
        "\n",
        "for j in range(1, states.shape[0] - 1):\n",
        "    for i in range(1,states.shape[1] - 1):\n",
        "        if cMask[j,i] != -1:\n",
        "            if cMask[j,i+1] == -1:\n",
        "                cMask[j,i] = 4\n",
        "            elif cMask[j, i-1] == -1:\n",
        "                cMask[j,i] = 2\n",
        "                \n",
        "\n",
        "for j in range(1, states.shape[0] - 1):\n",
        "    for i in range(1,states.shape[1] - 1):\n",
        "        if cMask[j,i] != -1:\n",
        "            if cMask[j,i+1] == -1:\n",
        "                cMask[j,i] = 4\n",
        "            elif cMask[j, i-1] == -1:\n",
        "                cMask[j,i] = 2\n",
        "\n",
        "for i in range(1,states.shape[1] - 1):\n",
        "    if cMask[-1,i] != -1 and cMask[-1,i+1] == -1:\n",
        "        cMask[-1,i] = 6\n",
        "    if cMask[-1,i] != -1 and cMask[-1,i-1] == -1:\n",
        "        cMask[-1,i] = 5\n",
        "\n",
        "cMask[0,0] = 7\n",
        "cMask[0,-1] = 8\n",
        "cMask[-1,0] = 5\n",
        "cMask[-1,-1] = 6\n",
        "    "
      ]
    },
    {
      "cell_type": "code",
      "execution_count": 172,
      "metadata": {
        "colab": {
          "base_uri": "https://localhost:8080/",
          "height": 452
        },
        "id": "B_7Y2z5s29Xo",
        "outputId": "2f2e00a8-cd65-49d3-d6f3-5faded82b9cb"
      },
      "outputs": [
        {
          "data": {
            "text/plain": [
              "<matplotlib.colorbar.Colorbar at 0x7f8562ba3580>"
            ]
          },
          "execution_count": 172,
          "metadata": {},
          "output_type": "execute_result"
        },
        {
          "data": {
            "image/png": "[encoded data removed]",
            "text/plain": [
              "<Figure size 640x480 with 2 Axes>"
            ]
          },
          "metadata": {},
          "output_type": "display_data"
        }
      ],
      "source": [
        "plt.imshow(states, extent=[0,xf,0,yf], origin=\"lower\")\n",
        "plt.colorbar()"
      ]
    },
    {
      "cell_type": "code",
      "execution_count": 173,
      "metadata": {},
      "outputs": [
        {
          "data": {
            "text/plain": [
              "array([[7., 0., 0., ..., 0., 0., 8.],\n",
              "       [2., 1., 1., ..., 1., 1., 4.],\n",
              "       [2., 1., 1., ..., 1., 1., 4.],\n",
              "       ...,\n",
              "       [2., 1., 1., ..., 1., 1., 4.],\n",
              "       [2., 1., 1., ..., 1., 1., 4.],\n",
              "       [5., 3., 3., ..., 3., 3., 6.]])"
            ]
          },
          "execution_count": 173,
          "metadata": {},
          "output_type": "execute_result"
        }
      ],
      "source": [
        "cMask"
      ]
    },
    {
      "cell_type": "code",
      "execution_count": 174,
      "metadata": {
        "colab": {
          "base_uri": "https://localhost:8080/",
          "height": 452
        },
        "id": "3Nbf-ZsS29Xp",
        "outputId": "62d0482b-a0fc-495f-bda9-255e9b85b646"
      },
      "outputs": [
        {
          "data": {
            "text/plain": [
              "<matplotlib.colorbar.Colorbar at 0x7f8562c90190>"
            ]
          },
          "execution_count": 174,
          "metadata": {},
          "output_type": "execute_result"
        },
        {
          "data": {
            "image/png": "[encoded data removed]",
            "text/plain": [
              "<Figure size 3000x1000 with 2 Axes>"
            ]
          },
          "metadata": {},
          "output_type": "display_data"
        }
      ],
      "source": [
        "plt.figure(figsize = (30,10))\n",
        "plt.imshow(cMask, extent=[0,xf,0,yf], origin=\"lower\", cmap=\"jet\")\n",
        "\n",
        "plt.colorbar()"
      ]
    },
    {
      "cell_type": "code",
      "execution_count": 175,
      "metadata": {
        "id": "puuIfJqr29Xp"
      },
      "outputs": [],
      "source": [
        "for j in range(states.shape[0]):\n",
        "    for i in range(states.shape[1]):\n",
        "        if cMask[j,i] >= 0:\n",
        "            states[j,i] = 25"
      ]
    },
    {
      "cell_type": "code",
      "execution_count": 176,
      "metadata": {
        "colab": {
          "base_uri": "https://localhost:8080/",
          "height": 452
        },
        "id": "jXm6-aly29Xp",
        "outputId": "89e75013-ddf1-49ad-ab58-75ef09dc29d3"
      },
      "outputs": [
        {
          "data": {
            "text/plain": [
              "<matplotlib.colorbar.Colorbar at 0x7f8550dc4670>"
            ]
          },
          "execution_count": 176,
          "metadata": {},
          "output_type": "execute_result"
        },
        {
          "data": {
            "image/png": "[encoded data removed]",
            "text/plain": [
              "<Figure size 640x480 with 2 Axes>"
            ]
          },
          "metadata": {},
          "output_type": "display_data"
        }
      ],
      "source": [
        "plt.imshow(states, extent=[0,xf,0,yf], origin=\"lower\")\n",
        "plt.colorbar()"
      ]
    },
    {
      "cell_type": "code",
      "execution_count": 177,
      "metadata": {
        "id": "nBk6UEfz29Xp"
      },
      "outputs": [],
      "source": [
        "counter = 0"
      ]
    },
    {
      "cell_type": "code",
      "execution_count": 178,
      "metadata": {
        "id": "6_r-PJfn29Xq"
      },
      "outputs": [],
      "source": [
        "for j in range(states.shape[0]):\n",
        "  for i in range(states.shape[1]):\n",
        "\n",
        "    if cMask[j,i] == 0: # heat flux\n",
        "      # states[j,i] = (dx / (2*k)) * q + (2 * states[j+1,i] + states[j,i+1] + states[j,i-1])/(4)\n",
        "\n",
        "      A[counter, mapA(j,i)] = -1\n",
        "      A[counter, mapA(j+1,i)] = 1/2\n",
        "      A[counter, mapA(j,i+1)] = 1/4\n",
        "      A[counter, mapA(j,i-1)] = 1/4\n",
        "      B[counter] = -dx / (2*k) * q\n",
        "\n",
        "      counter += 1\n",
        "\n",
        "    if cMask[j,i] == 9: # insulation\n",
        "      # states[j,i] =  (2 * states[j+1,i] + states[j,i+1] + states[j,i-1])/(4)\n",
        "      \n",
        "      A[counter, mapA(j,i)] = -1\n",
        "      A[counter, mapA(j+1,i)] = 1/2\n",
        "      A[counter, mapA(j,i+1)] = 1/4\n",
        "      A[counter, mapA(j,i-1)] = 1/4\n",
        "      B[counter] = 0\n",
        "\n",
        "      counter += 1\n",
        "      \n",
        "    if cMask[j,i] == 1: # central diff\n",
        "      # states[j,i] = (states[j,i+1] + states[j,i-1] + states[j+1,i] + states[j-1,i]) / 4\n",
        "\n",
        "      A[counter,mapA(j,i)] = -1\n",
        "      A[counter,mapA(j-1,i)] = 1/4\n",
        "      A[counter,mapA(j,i+1)] = 1/4\n",
        "      A[counter,mapA(j,i-1)] = 1/4\n",
        "      A[counter,mapA(j+1,i)] = 1/4\n",
        "      B[counter] = 0\n",
        "\n",
        "      counter += 1\n",
        "\n",
        "    if cMask[j,i] == 4:  # convection right\n",
        "      # states[j,i] = ((h * dx / k)* rt + (2 * states[j,i-1] + states[j+1,i] + states[j-1,i])/2)/(2 + h * dx / k)\n",
        "\n",
        "      A[counter,mapA(j,i)] = -1\n",
        "      A[counter,mapA(j,i-1)] = 1/(2 + h * dx / k)\n",
        "      A[counter,mapA(j+1,i)] = 1/(2 + h * dx / k)/2\n",
        "      A[counter,mapA(j-1,i)] = 1/(2 + h * dx / k)/2\n",
        "      B[counter] = - ((h * dx / k)* rt)/(2 + h * dx / k)\n",
        "\n",
        "      counter += 1\n",
        "\n",
        "    if cMask[j,i] == 3: # convection top\n",
        "      # states[j,i] = ((h * dx / k)* rt + (2 * states[j-1,i] + states[j,i+1] + states[j,i-1])/2)/(2 + h * dx / k)\n",
        "\n",
        "      A[counter,mapA(j,i)] = -1\n",
        "      A[counter,mapA(j-1,i)] = 1/(2 + h * dx / k)\n",
        "      A[counter,mapA(j,i+1)] = 1/(2 + h * dx / k)/2\n",
        "      A[counter,mapA(j,i-1)] = 1/(2 + h * dx / k)/2\n",
        "      B[counter] = - ((h * dx / k)* rt)/(2 + h * dx / k)\n",
        "\n",
        "      counter += 1\n",
        "\n",
        "    if cMask[j,i] == 2: # convection left\n",
        "      # states[j,i] = ((h * dx / k)* rt + (2 * states[j,i+1] + states[j+1,i] + states[j-1,i])/2)/(2 + h * dx / k)\n",
        "\n",
        "      A[counter,mapA(j,i)] = -1\n",
        "      A[counter,mapA(j,i+1)] = 1/(2 + h * dx / k)\n",
        "      A[counter,mapA(j+1,i)] = 1/(2 + h * dx / k)/2\n",
        "      A[counter,mapA(j-1,i)] = 1/(2 + h * dx / k)/2\n",
        "      B[counter] = - ((h * dx / k)* rt)/(2 + h * dx / k)\n",
        "\n",
        "      counter += 1\n",
        "\n",
        "\n",
        "    if cMask[j,i] == 5: # TL corner\n",
        "    # states[j,i] - states[j-1, i] = 0\n",
        "\n",
        "      A[counter,mapA(j,i)] = 1\n",
        "      A[counter,mapA(j,i+1)] = -1\n",
        "\n",
        "      counter += 1\n",
        "\n",
        "    if cMask[j,i] == 6: # TR corner\n",
        "      # states[j,i] = states[j-1,i]\n",
        "\n",
        "      A[counter,mapA(j,i)] = 1\n",
        "      A[counter,mapA(j,i-1)] = -1\n",
        "\n",
        "      counter += 1\n",
        "\n",
        "    if cMask[j,i] == 7: # BL corner\n",
        "      # states[j,i] = states[j+1,i]\n",
        "\n",
        "      A[counter,mapA(j,i)] = 1\n",
        "      A[counter,mapA(j,i+1)] = -1\n",
        "\n",
        "      counter += 1\n",
        "\n",
        "    if cMask[j,i] == 8: # BR corner\n",
        "      # states[j,i] = states[j+1,i]\n",
        "\n",
        "      A[counter,mapA(j,i)] = 1\n",
        "      A[counter,mapA(j,i-1)] = -1\n",
        "\n",
        "      counter += 1\n",
        "\n",
        "    if cMask[j,i] == -1: # Not in Geometry\n",
        "      A[counter,mapA(j,i)] = 1\n",
        "      B[counter] = -1\n",
        "\n",
        "      counter += 1\n"
      ]
    },
    {
      "cell_type": "code",
      "execution_count": 179,
      "metadata": {
        "colab": {
          "base_uri": "https://localhost:8080/"
        },
        "id": "zsDYRCeM8Npd",
        "outputId": "8494003d-0ac6-4a1d-bcd3-15f5d4330bdb"
      },
      "outputs": [
        {
          "data": {
            "text/plain": [
              "4368"
            ]
          },
          "execution_count": 179,
          "metadata": {},
          "output_type": "execute_result"
        }
      ],
      "source": [
        "counter"
      ]
    },
    {
      "cell_type": "code",
      "execution_count": 180,
      "metadata": {
        "colab": {
          "base_uri": "https://localhost:8080/"
        },
        "id": "9YRUdG_K8PQq",
        "outputId": "27247199-ed11-4ba2-f927-6dd3e428f21e"
      },
      "outputs": [
        {
          "data": {
            "text/plain": [
              "4368"
            ]
          },
          "execution_count": 180,
          "metadata": {},
          "output_type": "execute_result"
        }
      ],
      "source": [
        "n"
      ]
    },
    {
      "cell_type": "code",
      "execution_count": 181,
      "metadata": {
        "id": "gRMx1tzD8LIr"
      },
      "outputs": [],
      "source": [
        "assert(counter == n)"
      ]
    },
    {
      "cell_type": "code",
      "execution_count": 182,
      "metadata": {
        "colab": {
          "base_uri": "https://localhost:8080/"
        },
        "id": "qiX17tXp29Xq",
        "outputId": "cd211ceb-4d98-4ba5-8db5-603439307268"
      },
      "outputs": [
        {
          "name": "stdout",
          "output_type": "stream",
          "text": [
            "[[ 1.         -1.          0.         ...  0.          0.\n",
            "   0.        ]\n",
            " [ 0.25       -1.          0.25       ...  0.          0.\n",
            "   0.        ]\n",
            " [ 0.          0.25       -1.         ...  0.          0.\n",
            "   0.        ]\n",
            " ...\n",
            " [ 0.          0.          0.         ... -1.          0.24996309\n",
            "   0.        ]\n",
            " [ 0.          0.          0.         ...  0.24996309 -1.\n",
            "   0.24996309]\n",
            " [ 0.          0.          0.         ...  0.         -1.\n",
            "   1.        ]]\n"
          ]
        }
      ],
      "source": [
        "print(A)"
      ]
    },
    {
      "cell_type": "code",
      "execution_count": 183,
      "metadata": {
        "colab": {
          "base_uri": "https://localhost:8080/"
        },
        "id": "LQDlRX0P29Xq",
        "outputId": "92a2703f-e2c7-474e-ccef-713d2ef09019"
      },
      "outputs": [
        {
          "ename": "KeyboardInterrupt",
          "evalue": "",
          "output_type": "error",
          "traceback": [
            "\u001b[0;31m---------------------------------------------------------------------------\u001b[0m",
            "\u001b[0;31mKeyboardInterrupt\u001b[0m                         Traceback (most recent call last)",
            "\u001b[0;32m/var/folders/b1/kbp77bs11j17d3q0gk8vgrth0000gn/T/ipykernel_83362/1684418284.py\u001b[0m in \u001b[0;36m<module>\u001b[0;34m\u001b[0m\n\u001b[0;32m----> 1\u001b[0;31m \u001b[0mX\u001b[0m \u001b[0;34m=\u001b[0m \u001b[0mnp\u001b[0m\u001b[0;34m.\u001b[0m\u001b[0mlinalg\u001b[0m\u001b[0;34m.\u001b[0m\u001b[0minv\u001b[0m\u001b[0;34m(\u001b[0m\u001b[0mA\u001b[0m\u001b[0;34m)\u001b[0m \u001b[0;34m@\u001b[0m \u001b[0mB\u001b[0m\u001b[0;34m.\u001b[0m\u001b[0mreshape\u001b[0m\u001b[0;34m(\u001b[0m\u001b[0;34m(\u001b[0m\u001b[0;34m-\u001b[0m\u001b[0;36m1\u001b[0m\u001b[0;34m,\u001b[0m\u001b[0;36m1\u001b[0m\u001b[0;34m)\u001b[0m\u001b[0;34m)\u001b[0m\u001b[0;34m\u001b[0m\u001b[0;34m\u001b[0m\u001b[0m\n\u001b[0m\u001b[1;32m      2\u001b[0m \u001b[0mprint\u001b[0m\u001b[0;34m(\u001b[0m\u001b[0mX\u001b[0m\u001b[0;34m)\u001b[0m\u001b[0;34m\u001b[0m\u001b[0;34m\u001b[0m\u001b[0m\n",
            "\u001b[0;32m~/opt/anaconda3/lib/python3.9/site-packages/numpy/core/overrides.py\u001b[0m in \u001b[0;36minv\u001b[0;34m(*args, **kwargs)\u001b[0m\n",
            "\u001b[0;32m~/opt/anaconda3/lib/python3.9/site-packages/numpy/linalg/linalg.py\u001b[0m in \u001b[0;36minv\u001b[0;34m(a)\u001b[0m\n\u001b[1;32m    536\u001b[0m     \u001b[0msignature\u001b[0m \u001b[0;34m=\u001b[0m \u001b[0;34m'D->D'\u001b[0m \u001b[0;32mif\u001b[0m \u001b[0misComplexType\u001b[0m\u001b[0;34m(\u001b[0m\u001b[0mt\u001b[0m\u001b[0;34m)\u001b[0m \u001b[0;32melse\u001b[0m \u001b[0;34m'd->d'\u001b[0m\u001b[0;34m\u001b[0m\u001b[0;34m\u001b[0m\u001b[0m\n\u001b[1;32m    537\u001b[0m     \u001b[0mextobj\u001b[0m \u001b[0;34m=\u001b[0m \u001b[0mget_linalg_error_extobj\u001b[0m\u001b[0;34m(\u001b[0m\u001b[0m_raise_linalgerror_singular\u001b[0m\u001b[0;34m)\u001b[0m\u001b[0;34m\u001b[0m\u001b[0;34m\u001b[0m\u001b[0m\n\u001b[0;32m--> 538\u001b[0;31m     \u001b[0mainv\u001b[0m \u001b[0;34m=\u001b[0m \u001b[0m_umath_linalg\u001b[0m\u001b[0;34m.\u001b[0m\u001b[0minv\u001b[0m\u001b[0;34m(\u001b[0m\u001b[0ma\u001b[0m\u001b[0;34m,\u001b[0m \u001b[0msignature\u001b[0m\u001b[0;34m=\u001b[0m\u001b[0msignature\u001b[0m\u001b[0;34m,\u001b[0m \u001b[0mextobj\u001b[0m\u001b[0;34m=\u001b[0m\u001b[0mextobj\u001b[0m\u001b[0;34m)\u001b[0m\u001b[0;34m\u001b[0m\u001b[0;34m\u001b[0m\u001b[0m\n\u001b[0m\u001b[1;32m    539\u001b[0m     \u001b[0;32mreturn\u001b[0m \u001b[0mwrap\u001b[0m\u001b[0;34m(\u001b[0m\u001b[0mainv\u001b[0m\u001b[0;34m.\u001b[0m\u001b[0mastype\u001b[0m\u001b[0;34m(\u001b[0m\u001b[0mresult_t\u001b[0m\u001b[0;34m,\u001b[0m \u001b[0mcopy\u001b[0m\u001b[0;34m=\u001b[0m\u001b[0;32mFalse\u001b[0m\u001b[0;34m)\u001b[0m\u001b[0;34m)\u001b[0m\u001b[0;34m\u001b[0m\u001b[0;34m\u001b[0m\u001b[0m\n\u001b[1;32m    540\u001b[0m \u001b[0;34m\u001b[0m\u001b[0m\n",
            "\u001b[0;31mKeyboardInterrupt\u001b[0m: "
          ]
        }
      ],
      "source": [
        "X = np.linalg.inv(A) @ B.reshape((-1,1))\n",
        "print(X)"
      ]
    },
    {
      "cell_type": "code",
      "execution_count": null,
      "metadata": {
        "id": "A3xVRGMZ29Xq"
      },
      "outputs": [],
      "source": [
        "states = X.reshape((states.shape[0], states.shape[1]))"
      ]
    },
    {
      "cell_type": "code",
      "execution_count": null,
      "metadata": {
        "colab": {
          "base_uri": "https://localhost:8080/",
          "height": 452
        },
        "id": "btcO2L4O29Xq",
        "outputId": "733e87b1-1eb4-422d-ff2a-e10e86eef54c"
      },
      "outputs": [
        {
          "data": {
            "text/plain": [
              "<matplotlib.colorbar.Colorbar at 0x7f8510611610>"
            ]
          },
          "execution_count": 158,
          "metadata": {},
          "output_type": "execute_result"
        },
        {
          "data": {
            "image/png": "[encoded data removed]",
            "text/plain": [
              "<Figure size 640x480 with 2 Axes>"
            ]
          },
          "metadata": {},
          "output_type": "display_data"
        }
      ],
      "source": [
        "plt.imshow(states, extent=[0,xf,0,yf], origin=\"lower\")\n",
        "plt.colorbar()"
      ]
    },
    {
      "cell_type": "code",
      "execution_count": null,
      "metadata": {
        "colab": {
          "base_uri": "https://localhost:8080/"
        },
        "id": "_oOrsobV-dru",
        "outputId": "f4617b81-bcb7-419f-d3c8-48a0de86c049"
      },
      "outputs": [
        {
          "data": {
            "text/plain": [
              "81.6248094610319"
            ]
          },
          "execution_count": 159,
          "metadata": {},
          "output_type": "execute_result"
        }
      ],
      "source": [
        "np.max(states)"
      ]
    }
  ],
  "metadata": {
    "colab": {
      "provenance": []
    },
    "kernelspec": {
      "display_name": "Python 3",
      "language": "python",
      "name": "python3"
    },
    "language_info": {
      "codemirror_mode": {
        "name": "ipython",
        "version": 3
      },
      "file_extension": ".py",
      "mimetype": "text/x-python",
      "name": "python",
      "nbconvert_exporter": "python",
      "pygments_lexer": "ipython3",
      "version": "3.9.13"
    },
    "orig_nbformat": 4
  },
  "nbformat": 4,
  "nbformat_minor": 0
}
